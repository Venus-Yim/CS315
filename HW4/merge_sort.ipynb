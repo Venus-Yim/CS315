{
 "cells": [
  {
   "cell_type": "code",
   "execution_count": null,
   "id": "80879e2e",
   "metadata": {},
   "outputs": [],
   "source": [
    "'''\n",
    "- Algorithm type: Divide and Conquer\n",
    "- Time Complexity:\n",
    "    - Worst case: O(n log n)\n",
    "    - Average case: O(n log n)\n",
    "    - Best case: O(n log n)\n",
    "- Space Complexity: O(n)\n",
    "- Stable: Yes\n",
    "'''\n",
    "def merge_sort(arr):\n",
    "    if len(arr) <= 1:\n",
    "        return arr\n",
    "    mid = len(arr)//2\n",
    "    left = merge_sort(arr[:mid])\n",
    "    right = merge_sort(arr[mid:])\n",
    "    return merge(left,right)\n",
    "\n",
    "def merge(left,right):\n",
    "    result=[]\n",
    "    i=j=0\n",
    "    while i<len(left) and j<len(right):\n",
    "        if left[i]<=right[j]:\n",
    "            result.append(left[i])\n",
    "            i+=1\n",
    "        else:\n",
    "            result.append(right[j])\n",
    "            j+=1\n",
    "    result.extend(left[i:])\n",
    "    result.extend(right[j:])\n",
    "    return result"
   ]
  },
  {
   "cell_type": "code",
   "execution_count": 9,
   "id": "ccfdebb8",
   "metadata": {},
   "outputs": [],
   "source": [
    "import time, copy, random\n",
    "\n",
    "def time_sort(func, arr, repeats=3):\n",
    "    total = 0\n",
    "    for _ in range(repeats):\n",
    "        data = copy.copy(arr)\n",
    "        start = time.perf_counter()\n",
    "        func(data)\n",
    "        end = time.perf_counter()\n",
    "        total += end - start\n",
    "    return total / repeats"
   ]
  },
  {
   "cell_type": "code",
   "execution_count": 10,
   "id": "3620eccf",
   "metadata": {},
   "outputs": [
    {
     "name": "stdout",
     "output_type": "stream",
     "text": [
      "N=2000, random time=0.00526s, sorted time=0.00423s\n",
      "N=4000, random time=0.01329s, sorted time=0.00606s\n",
      "N=8000, random time=0.01912s, sorted time=0.01792s\n",
      "N=16000, random time=0.08383s, sorted time=0.02326s\n",
      "N=32000, random time=0.06897s, sorted time=0.04873s\n"
     ]
    }
   ],
   "source": [
    "#test random and sorted data\n",
    "Ns = [2000, 4000, 8000, 16000, 32000]\n",
    "for N in Ns:\n",
    "    rand_data = [random.randint(0,10000) for _ in range(N)]\n",
    "    sorted_data = sorted(rand_data)\n",
    "\n",
    "    t_rand = time_sort(merge_sort, rand_data)\n",
    "    t_sorted = time_sort(merge_sort, sorted_data)\n",
    "    print(f\"N={N}, random time={t_rand:.5f}s, sorted time={t_sorted:.5f}s\")"
   ]
  },
  {
   "cell_type": "code",
   "execution_count": 11,
   "id": "0077815a",
   "metadata": {},
   "outputs": [
    {
     "name": "stdout",
     "output_type": "stream",
     "text": [
      "Ratio T(4000)/T(2000)=1.81\n",
      "Ratio T(8000)/T(4000)=1.26\n",
      "Ratio T(16000)/T(8000)=2.31\n",
      "Ratio T(32000)/T(16000)=2.29\n"
     ]
    }
   ],
   "source": [
    "#ratio test\n",
    "for i in range(len(Ns)-1):\n",
    "    N1, N2 = Ns[i], Ns[i+1]\n",
    "    t1 = time_sort(merge_sort, [random.randint(0,10000) for _ in range(N1)])\n",
    "    t2 = time_sort(merge_sort, [random.randint(0,10000) for _ in range(N2)])\n",
    "    print(f\"Ratio T({N2})/T({N1})={t2/t1:.2f}\")"
   ]
  }
 ],
 "metadata": {
  "kernelspec": {
   "display_name": "Python 3",
   "language": "python",
   "name": "python3"
  },
  "language_info": {
   "codemirror_mode": {
    "name": "ipython",
    "version": 3
   },
   "file_extension": ".py",
   "mimetype": "text/x-python",
   "name": "python",
   "nbconvert_exporter": "python",
   "pygments_lexer": "ipython3",
   "version": "3.12.1"
  }
 },
 "nbformat": 4,
 "nbformat_minor": 5
}
