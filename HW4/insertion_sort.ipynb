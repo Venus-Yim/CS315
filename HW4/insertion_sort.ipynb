{
 "cells": [
  {
   "cell_type": "code",
   "execution_count": null,
   "id": "80879e2e",
   "metadata": {},
   "outputs": [],
   "source": [
    "'''\n",
    "- Algorithm type: Comparison Sort\n",
    "- Time Complexity:\n",
    "    - Worst case: O(n²)\n",
    "    - Average case: O(n²)\n",
    "    - Best case: O(n)\n",
    "- Space Complexity: O(1)\n",
    "- Stable: Yes\n",
    "'''\n",
    "def insertion_sort(arr):\n",
    "    for i in range(1,len(arr)):\n",
    "        key = arr[i]\n",
    "        j = i-1\n",
    "        while j>=0 and arr[j]>key:\n",
    "            arr[j+1] = arr[j]\n",
    "            j -= 1\n",
    "        arr[j+1] = key\n",
    "    return arr"
   ]
  },
  {
   "cell_type": "code",
   "execution_count": 2,
   "id": "ccfdebb8",
   "metadata": {},
   "outputs": [],
   "source": [
    "import time, copy, random\n",
    "\n",
    "def time_sort(func, arr, repeats=3):\n",
    "    total = 0\n",
    "    for _ in range(repeats):\n",
    "        data = copy.copy(arr)\n",
    "        start = time.perf_counter()\n",
    "        func(data)\n",
    "        end = time.perf_counter()\n",
    "        total += end - start\n",
    "    return total / repeats"
   ]
  },
  {
   "cell_type": "code",
   "execution_count": 3,
   "id": "3620eccf",
   "metadata": {},
   "outputs": [
    {
     "name": "stdout",
     "output_type": "stream",
     "text": [
      "N=100, random time=0.00024s, sorted time=0.00001s\n",
      "N=200, random time=0.00056s, sorted time=0.00001s\n",
      "N=400, random time=0.00244s, sorted time=0.00003s\n",
      "N=800, random time=0.02631s, sorted time=0.00011s\n"
     ]
    }
   ],
   "source": [
    "#test random and sorted data\n",
    "Ns = [100, 200, 400, 800]\n",
    "for N in Ns:\n",
    "    rand_data = [random.randint(0,10000) for _ in range(N)]\n",
    "    sorted_data = sorted(rand_data)\n",
    "\n",
    "    t_rand = time_sort(insertion_sort, rand_data)\n",
    "    t_sorted = time_sort(insertion_sort, sorted_data)\n",
    "    print(f\"N={N}, random time={t_rand:.5f}s, sorted time={t_sorted:.5f}s\")"
   ]
  },
  {
   "cell_type": "code",
   "execution_count": 4,
   "id": "0077815a",
   "metadata": {},
   "outputs": [
    {
     "name": "stdout",
     "output_type": "stream",
     "text": [
      "Ratio T(200)/T(100)=7.46\n",
      "Ratio T(400)/T(200)=4.17\n",
      "Ratio T(800)/T(400)=3.06\n"
     ]
    }
   ],
   "source": [
    "#ratio test\n",
    "for i in range(len(Ns)-1):\n",
    "    N1, N2 = Ns[i], Ns[i+1]\n",
    "    t1 = time_sort(insertion_sort, [random.randint(0,10000) for _ in range(N1)])\n",
    "    t2 = time_sort(insertion_sort, [random.randint(0,10000) for _ in range(N2)])\n",
    "    print(f\"Ratio T({N2})/T({N1})={t2/t1:.2f}\")"
   ]
  },
  {
   "cell_type": "markdown",
   "id": "71d131d2",
   "metadata": {},
   "source": [
    "As expected, runtime increases roughly quadratically with input size, consistent with O(n²) complexity. Random and sorted data perform similarly for Selection Sort, but Insertion Sort runs faster on already sorted data, showing best-case O(n) behavior.\n"
   ]
  }
 ],
 "metadata": {
  "kernelspec": {
   "display_name": "Python 3",
   "language": "python",
   "name": "python3"
  },
  "language_info": {
   "codemirror_mode": {
    "name": "ipython",
    "version": 3
   },
   "file_extension": ".py",
   "mimetype": "text/x-python",
   "name": "python",
   "nbconvert_exporter": "python",
   "pygments_lexer": "ipython3",
   "version": "3.12.1"
  }
 },
 "nbformat": 4,
 "nbformat_minor": 5
}
