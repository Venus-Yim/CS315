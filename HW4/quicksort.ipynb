{
 "cells": [
  {
   "cell_type": "code",
   "execution_count": null,
   "id": "80879e2e",
   "metadata": {},
   "outputs": [],
   "source": [
    "'''\n",
    "- Algorithm type: Divide and Conquer / Comparison Sort\n",
    "- Time Complexity:\n",
    "    - Worst case: O(n²) (e.g., sorted or reverse-sorted data with bad pivot)\n",
    "    - Average case: O(n log n)\n",
    "    - Best case: O(n log n)\n",
    "- Space Complexity: O(log n) on average (stack recursion)\n",
    "- Stable: No\n",
    "'''\n",
    "def quicksort(arr):\n",
    "    if len(arr)<=1:\n",
    "        return arr\n",
    "    pivot = arr[-1]  # using last element as pivot\n",
    "    left = [x for x in arr[:-1] if x<=pivot]\n",
    "    right = [x for x in arr[:-1] if x>pivot]\n",
    "    return quicksort(left) + [pivot] + quicksort(right)"
   ]
  },
  {
   "cell_type": "code",
   "execution_count": 17,
   "id": "ccfdebb8",
   "metadata": {},
   "outputs": [],
   "source": [
    "import time, copy, random\n",
    "\n",
    "def time_sort(func, arr, repeats=3):\n",
    "    total = 0\n",
    "    for _ in range(repeats):\n",
    "        data = copy.copy(arr)\n",
    "        start = time.perf_counter()\n",
    "        func(data)\n",
    "        end = time.perf_counter()\n",
    "        total += end - start\n",
    "    return total / repeats"
   ]
  },
  {
   "cell_type": "code",
   "execution_count": 18,
   "id": "3620eccf",
   "metadata": {},
   "outputs": [
    {
     "name": "stdout",
     "output_type": "stream",
     "text": [
      "N=100, random time=0.00008s, sorted time=0.00033s\n",
      "N=200, random time=0.00018s, sorted time=0.00111s\n",
      "N=400, random time=0.00064s, sorted time=0.01001s\n",
      "N=800, random time=0.00130s, sorted time=0.02940s\n"
     ]
    }
   ],
   "source": [
    "#test random and sorted data\n",
    "Ns = [100, 200, 400, 800]\n",
    "for N in Ns:\n",
    "    rand_data = [random.randint(0,10000) for _ in range(N)]\n",
    "    sorted_data = sorted(rand_data)\n",
    "\n",
    "    t_rand = time_sort(quicksort, rand_data)\n",
    "    t_sorted = time_sort(quicksort, sorted_data)\n",
    "    print(f\"N={N}, random time={t_rand:.5f}s, sorted time={t_sorted:.5f}s\")"
   ]
  },
  {
   "cell_type": "code",
   "execution_count": 19,
   "id": "0077815a",
   "metadata": {},
   "outputs": [
    {
     "name": "stdout",
     "output_type": "stream",
     "text": [
      "Ratio T(200)/T(100)=1.79\n",
      "Ratio T(400)/T(200)=2.23\n",
      "Ratio T(800)/T(400)=2.57\n"
     ]
    }
   ],
   "source": [
    "#ratio test\n",
    "for i in range(len(Ns)-1):\n",
    "    N1, N2 = Ns[i], Ns[i+1]\n",
    "    t1 = time_sort(quicksort, [random.randint(0,10000) for _ in range(N1)])\n",
    "    t2 = time_sort(quicksort, [random.randint(0,10000) for _ in range(N2)])\n",
    "    print(f\"Ratio T({N2})/T({N1})={t2/t1:.2f}\")"
   ]
  },
  {
   "cell_type": "markdown",
   "id": "134e7909",
   "metadata": {},
   "source": [
    "Runtime grows roughly proportional to n log n, as predicted by the theoretical analysis. Performance on sorted data is similar to random data for Merge Sort, while Quicksort can be slower if pivot selection is poor.\n"
   ]
  }
 ],
 "metadata": {
  "kernelspec": {
   "display_name": "Python 3",
   "language": "python",
   "name": "python3"
  },
  "language_info": {
   "codemirror_mode": {
    "name": "ipython",
    "version": 3
   },
   "file_extension": ".py",
   "mimetype": "text/x-python",
   "name": "python",
   "nbconvert_exporter": "python",
   "pygments_lexer": "ipython3",
   "version": "3.12.1"
  }
 },
 "nbformat": 4,
 "nbformat_minor": 5
}
