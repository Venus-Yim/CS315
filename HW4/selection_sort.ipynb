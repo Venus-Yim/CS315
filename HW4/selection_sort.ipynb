{
 "cells": [
  {
   "cell_type": "code",
   "execution_count": null,
   "id": "1e032c20",
   "metadata": {},
   "outputs": [],
   "source": [
    "'''\n",
    "- Algorithm type: Comparison Sort\n",
    "- Time Complexity:\n",
    "    - Worst case: O(n²)\n",
    "    - Average case: O(n²)\n",
    "    - Best case: O(n²)\n",
    "- Space Complexity: O(1)\n",
    "- Stable: Yes\n",
    "'''\n",
    "def selection_sort(arr):\n",
    "    n = len(arr)\n",
    "    for i in range(n):\n",
    "        min_idx = i\n",
    "        for j in range(i+1, n):\n",
    "            if arr[j] < arr[min_idx]:\n",
    "                min_idx = j\n",
    "        arr[i], arr[min_idx] = arr[min_idx], arr[i]\n",
    "    return arr"
   ]
  },
  {
   "cell_type": "code",
   "execution_count": 2,
   "id": "4eb8e96b",
   "metadata": {},
   "outputs": [],
   "source": [
    "import time, copy, random\n",
    "\n",
    "def time_sort(func, arr, repeats=3):\n",
    "    total = 0\n",
    "    for _ in range(repeats):\n",
    "        data = copy.copy(arr)\n",
    "        start = time.perf_counter()\n",
    "        func(data)\n",
    "        end = time.perf_counter()\n",
    "        total += end - start\n",
    "    return total / repeats"
   ]
  },
  {
   "cell_type": "code",
   "execution_count": 3,
   "id": "93554ab3",
   "metadata": {},
   "outputs": [
    {
     "name": "stdout",
     "output_type": "stream",
     "text": [
      "N=100, random time=0.00024s, sorted time=0.00013s\n",
      "N=200, random time=0.00082s, sorted time=0.00088s\n",
      "N=400, random time=0.00281s, sorted time=0.00813s\n",
      "N=800, random time=0.01581s, sorted time=0.01175s\n"
     ]
    }
   ],
   "source": [
    "#test random and sorted data\n",
    "Ns = [100, 200, 400, 800]\n",
    "for N in Ns:\n",
    "    rand_data = [random.randint(0,10000) for _ in range(N)]\n",
    "    sorted_data = sorted(rand_data)\n",
    "\n",
    "    t_rand = time_sort(selection_sort, rand_data)\n",
    "    t_sorted = time_sort(selection_sort, sorted_data)\n",
    "    print(f\"N={N}, random time={t_rand:.5f}s, sorted time={t_sorted:.5f}s\")"
   ]
  },
  {
   "cell_type": "code",
   "execution_count": 4,
   "id": "a6b5a384",
   "metadata": {},
   "outputs": [
    {
     "name": "stdout",
     "output_type": "stream",
     "text": [
      "Ratio T(200)/T(100)=3.58\n",
      "Ratio T(400)/T(200)=4.85\n",
      "Ratio T(800)/T(400)=3.24\n"
     ]
    }
   ],
   "source": [
    "#ratio test\n",
    "for i in range(len(Ns)-1):\n",
    "    N1, N2 = Ns[i], Ns[i+1]\n",
    "    data1 = [random.randint(0,10000) for _ in range(N1)]\n",
    "    data2 = [random.randint(0,10000) for _ in range(N2)]\n",
    "    t1 = time_sort(selection_sort, data1)\n",
    "    t2 = time_sort(selection_sort, data2)\n",
    "    ratio = t2/t1\n",
    "    print(f\"Ratio T({N2})/T({N1})={ratio:.2f}\")"
   ]
  }
 ],
 "metadata": {
  "kernelspec": {
   "display_name": "Python 3",
   "language": "python",
   "name": "python3"
  },
  "language_info": {
   "codemirror_mode": {
    "name": "ipython",
    "version": 3
   },
   "file_extension": ".py",
   "mimetype": "text/x-python",
   "name": "python",
   "nbconvert_exporter": "python",
   "pygments_lexer": "ipython3",
   "version": "3.12.1"
  }
 },
 "nbformat": 4,
 "nbformat_minor": 5
}
