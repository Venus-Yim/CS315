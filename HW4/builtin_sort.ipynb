{
 "cells": [
  {
   "cell_type": "code",
   "execution_count": 3,
   "id": "ccfdebb8",
   "metadata": {},
   "outputs": [],
   "source": [
    "import time, copy, random\n",
    "\n",
    "def time_sort(func, arr, repeats=3):\n",
    "    total = 0\n",
    "    for _ in range(repeats):\n",
    "        data = copy.copy(arr)\n",
    "        start = time.perf_counter()\n",
    "        func(data)\n",
    "        end = time.perf_counter()\n",
    "        total += end - start\n",
    "    return total / repeats"
   ]
  },
  {
   "cell_type": "code",
   "execution_count": 4,
   "id": "3620eccf",
   "metadata": {},
   "outputs": [
    {
     "name": "stdout",
     "output_type": "stream",
     "text": [
      "N=2000, sorted()=0.00015s, .sort()=0.00013s\n",
      "N=4000, sorted()=0.00037s, .sort()=0.00037s\n",
      "N=8000, sorted()=0.00090s, .sort()=0.00082s\n",
      "N=16000, sorted()=0.00284s, .sort()=0.00262s\n",
      "N=32000, sorted()=0.00496s, .sort()=0.00424s\n"
     ]
    }
   ],
   "source": [
    "#test random and sorted data\n",
    "Ns = [2000, 4000, 8000, 16000, 32000]\n",
    "for N in Ns:\n",
    "    rand_data = [random.randint(0,100000) for _ in range(N)]\n",
    "    sorted_data = sorted(rand_data)\n",
    "    \n",
    "    t_sorted_func = time_sort(sorted, rand_data)\n",
    "    t_list_sort = time_sort(lambda x: x.sort(), rand_data)\n",
    "    print(f\"N={N}, sorted()={t_sorted_func:.5f}s, .sort()={t_list_sort:.5f}s\")"
   ]
  },
  {
   "cell_type": "markdown",
   "id": "3c382943",
   "metadata": {},
   "source": [
    "Built-in sorts outperform simple O(n²) algorithms on large inputs.\n"
   ]
  }
 ],
 "metadata": {
  "kernelspec": {
   "display_name": "Python 3",
   "language": "python",
   "name": "python3"
  },
  "language_info": {
   "codemirror_mode": {
    "name": "ipython",
    "version": 3
   },
   "file_extension": ".py",
   "mimetype": "text/x-python",
   "name": "python",
   "nbconvert_exporter": "python",
   "pygments_lexer": "ipython3",
   "version": "3.12.1"
  }
 },
 "nbformat": 4,
 "nbformat_minor": 5
}
